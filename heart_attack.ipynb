{
  "cells": [
    {
      "cell_type": "markdown",
      "metadata": {
        "id": "view-in-github",
        "colab_type": "text"
      },
      "source": [
        "<a href=\"https://colab.research.google.com/github/mosdrsv/Dataset/blob/main/heart_attack.ipynb\" target=\"_parent\"><img src=\"https://colab.research.google.com/assets/colab-badge.svg\" alt=\"Open In Colab\"/></a>"
      ]
    },
    {
      "cell_type": "code",
      "execution_count": null,
      "metadata": {
        "colab": {
          "base_uri": "https://localhost:8080/"
        },
        "id": "73lgZfJn-5Tw",
        "outputId": "16390487-8b88-498f-bc25-349bb804b1a0"
      },
      "outputs": [
        {
          "output_type": "stream",
          "name": "stdout",
          "text": [
            "fgg\n"
          ]
        }
      ],
      "source": []
    },
    {
      "cell_type": "code",
      "execution_count": null,
      "metadata": {
        "colab": {
          "base_uri": "https://localhost:8080/",
          "height": 1000
        },
        "id": "uI5_-k_C9HDS",
        "outputId": "25657337-3fa2-423e-d0a8-20529ddb6656"
      },
      "outputs": [
        {
          "output_type": "stream",
          "name": "stdout",
          "text": [
            "Drive already mounted at /content/gdrive; to attempt to forcibly remount, call drive.mount(\"/content/gdrive\", force_remount=True).\n",
            "Gender (Male)               0\n",
            "Age                         0\n",
            "Education                 105\n",
            "Current Smoker              0\n",
            "Cigs/Day                   29\n",
            "BP Meds                    53\n",
            "Prevalent Stroke            0\n",
            "Prevalent Hypertension      0\n",
            "Diabetes                    0\n",
            "Total Cholesterol          50\n",
            "Systolic BP                 0\n",
            "Diastolic BP                0\n",
            "BMI                        19\n",
            "Heart Rate                  1\n",
            "Glucose                   388\n",
            "Ten Year CHD                0\n",
            "dtype: int64\n",
            "(4240, 16)\n",
            "<class 'pandas.core.frame.DataFrame'>\n",
            "Int64Index: 4240 entries, 1 to 4240\n",
            "Data columns (total 16 columns):\n",
            " #   Column                  Non-Null Count  Dtype  \n",
            "---  ------                  --------------  -----  \n",
            " 0   Gender (Male)           4240 non-null   int64  \n",
            " 1   Age                     4240 non-null   int64  \n",
            " 2   Education               4135 non-null   float64\n",
            " 3   Current Smoker          4240 non-null   int64  \n",
            " 4   Cigs/Day                4211 non-null   float64\n",
            " 5   BP Meds                 4187 non-null   float64\n",
            " 6   Prevalent Stroke        4240 non-null   int64  \n",
            " 7   Prevalent Hypertension  4240 non-null   int64  \n",
            " 8   Diabetes                4240 non-null   int64  \n",
            " 9   Total Cholesterol       4190 non-null   float64\n",
            " 10  Systolic BP             4240 non-null   float64\n",
            " 11  Diastolic BP            4240 non-null   float64\n",
            " 12  BMI                     4221 non-null   float64\n",
            " 13  Heart Rate              4239 non-null   float64\n",
            " 14  Glucose                 3852 non-null   float64\n",
            " 15  Ten Year CHD            4240 non-null   int64  \n",
            "dtypes: float64(9), int64(7)\n",
            "memory usage: 563.1 KB\n",
            "None\n",
            "Gender (Male)             0\n",
            "Age                       0\n",
            "Education                 0\n",
            "Current Smoker            0\n",
            "Cigs/Day                  0\n",
            "BP Meds                   0\n",
            "Prevalent Stroke          0\n",
            "Prevalent Hypertension    0\n",
            "Diabetes                  0\n",
            "Total Cholesterol         0\n",
            "Systolic BP               0\n",
            "Diastolic BP              0\n",
            "BMI                       0\n",
            "Heart Rate                0\n",
            "Glucose                   0\n",
            "Ten Year CHD              0\n",
            "dtype: int64\n",
            "Gender (Male)               0.429245\n",
            "Age                        49.580189\n",
            "Education                   1.979444\n",
            "Current Smoker              0.494104\n",
            "Cigs/Day                    9.005937\n",
            "BP Meds                     0.029615\n",
            "Prevalent Stroke            0.005896\n",
            "Prevalent Hypertension      0.310613\n",
            "Diabetes                    0.025708\n",
            "Total Cholesterol         236.699523\n",
            "Systolic BP               132.354599\n",
            "Diastolic BP               82.897759\n",
            "BMI                        25.800801\n",
            "Heart Rate                 75.878981\n",
            "Glucose                    81.963655\n",
            "Ten Year CHD                0.151887\n",
            "dtype: float64\n"
          ]
        },
        {
          "output_type": "stream",
          "name": "stderr",
          "text": [
            "/usr/local/lib/python3.8/dist-packages/sklearn/linear_model/_logistic.py:814: ConvergenceWarning: lbfgs failed to converge (status=1):\n",
            "STOP: TOTAL NO. of ITERATIONS REACHED LIMIT.\n",
            "\n",
            "Increase the number of iterations (max_iter) or scale the data as shown in:\n",
            "    https://scikit-learn.org/stable/modules/preprocessing.html\n",
            "Please also refer to the documentation for alternative solver options:\n",
            "    https://scikit-learn.org/stable/modules/linear_model.html#logistic-regression\n",
            "  n_iter_i = _check_optimize_result(\n"
          ]
        },
        {
          "output_type": "stream",
          "name": "stdout",
          "text": [
            "(4240, 16)\n"
          ]
        },
        {
          "output_type": "display_data",
          "data": {
            "text/plain": [
              "<Figure size 432x288 with 1 Axes>"
            ],
            "image/png": "[encoded data removed]"
          },
          "metadata": {
            "needs_background": "light"
          }
        },
        {
          "output_type": "display_data",
          "data": {
            "text/plain": [
              "<Figure size 432x288 with 2 Axes>"
            ],
            "image/png": "[encoded data removed]"
          },
          "metadata": {
            "needs_background": "light"
          }
        },
        {
          "output_type": "stream",
          "name": "stdout",
          "text": [
            "Train accuracy for LogisticRegression : 0.8481721698113207\n",
            "Test accuracy for LogisticRegression : 0.8549528301886793\n",
            "Feature: 0, Score: 0.12054\n",
            "Feature: 1, Score: 0.02615\n",
            "Feature: 2, Score: -0.34151\n",
            "Feature: 3, Score: -0.06296\n",
            "Feature: 4, Score: 0.02037\n",
            "Feature: 5, Score: 0.04113\n",
            "Feature: 6, Score: 0.01875\n",
            "Feature: 7, Score: 0.28274\n",
            "Feature: 8, Score: 0.04191\n",
            "Feature: 9, Score: -0.00214\n",
            "Feature: 10, Score: 0.01900\n",
            "Feature: 11, Score: -0.02343\n",
            "Feature: 12, Score: -0.04342\n",
            "Feature: 13, Score: -0.02599\n",
            "Feature: 14, Score: 0.00481\n"
          ]
        },
        {
          "output_type": "display_data",
          "data": {
            "text/plain": [
              "<Figure size 432x288 with 2 Axes>"
            ],
            "image/png": "[encoded data removed]"
          },
          "metadata": {
            "needs_background": "light"
          }
        },
        {
          "output_type": "stream",
          "name": "stdout",
          "text": [
            "Train accuracy for decision tree (Modle C): 0.8481721698113207\n",
            "Test accuracy for decision tree (Modle C):  0.8514150943396226\n"
          ]
        },
        {
          "output_type": "display_data",
          "data": {
            "text/plain": [
              "<Figure size 432x288 with 2 Axes>"
            ],
            "image/png": "[encoded data removed]"
          },
          "metadata": {
            "needs_background": "light"
          }
        },
        {
          "output_type": "stream",
          "name": "stdout",
          "text": [
            "Train accuracy for GradientBoostingClassifier: 0.8487617924528302\n",
            "Test accuracy for GradientBoostingClassifier  0.8514150943396226\n"
          ]
        }
      ],
      "source": [
        "\n",
        "import numpy as np\n",
        "import pandas as pd\n",
        "import matplotlib as plt\n",
        "from matplotlib import pyplot\n",
        "from sklearn.linear_model import LogisticRegression\n",
        "from sklearn.ensemble import RandomForestClassifier\n",
        "from sklearn import svm\n",
        "from sklearn.preprocessing import StandardScaler\n",
        "from sklearn.preprocessing import MinMaxScaler\n",
        "from sklearn.model_selection import train_test_split\n",
        "from sklearn.tree import DecisionTreeClassifier\n",
        "from sklearn.ensemble import GradientBoostingClassifier\n",
        "from sklearn import tree\n",
        "from sklearn.metrics import accuracy_score, plot_confusion_matrix\n",
        "from sklearn.model_selection import train_test_split\n",
        "from sklearn.impute import SimpleImputer\n",
        "from sklearn import metrics\n",
        "\n",
        "from matplotlib import pyplot as plt\n",
        "\n",
        "import statsmodels.formula.api as sm\n",
        "from google.colab import drive\n",
        " \n",
        "# Mount Google Drive\n",
        "drive.mount(\"/content/gdrive\")\n",
        " \n",
        "# Load data from CSV file\n",
        "df = pd.read_csv(\"/content/gdrive/My Drive/Sasa_Data/framingham.csv\", na_values='?', header=None)\n",
        "\n",
        "# Set column names\n",
        "df.columns = ['Gender (Male)', 'Age', 'Education', 'Current Smoker', 'Cigs/Day', 'BP Meds', 'Prevalent Stroke',\n",
        "              'Prevalent Hypertension', 'Diabetes', 'Total Cholesterol', 'Systolic BP', 'Diastolic BP', 'BMI',\n",
        "              'Heart Rate', 'Glucose', 'Ten Year CHD']\n",
        "\n",
        "# Drop first row\n",
        "df.drop(df.index[0], inplace=True)\n",
        "\n",
        "# Convert all columns to numeric\n",
        "df = df.apply(pd.to_numeric, errors='coerce')\n",
        "\n",
        "# Check for missing values\n",
        "print(df.isnull().sum())\n",
        "\n",
        "# Get shape and info of dataframe\n",
        "print(df.shape)\n",
        "print(df.info())\n",
        "\n",
        "# Impute missing values with mean\n",
        "imputer = SimpleImputer(missing_values=np.nan, strategy=\"mean\", fill_value=None, verbose=0, copy=True)\n",
        "imputer = imputer.fit(df)\n",
        "imdf = imputer.transform(df)\n",
        "\n",
        "# Convert array back to dataframe\n",
        "imdf = pd.DataFrame(imdf)\n",
        "\n",
        "# Set column names\n",
        "imdf.columns = ['Gender (Male)', 'Age', 'Education', 'Current Smoker', 'Cigs/Day', 'BP Meds', 'Prevalent Stroke',\n",
        "                'Prevalent Hypertension', 'Diabetes', 'Total Cholesterol', 'Systolic BP', 'Diastolic BP', 'BMI',\n",
        "                'Heart Rate', 'Glucose', 'Ten Year CHD']\n",
        "\n",
        "# Check for missing values\n",
        "print(imdf.isnull().sum())\n",
        "\n",
        "# Get mean of each column\n",
        "print(imdf.mean())\n",
        "imdf.isnull().sum()\n",
        "imdf.mean()\n",
        "# Plot boxplot for Cigs/Day column and replace outliers with mean\n",
        "imdf.boxplot(column='Cigs/Day')\n",
        "imdf.loc[imdf['Cigs/Day'] > 59, 'Cigs/Day'] = 9.02\n",
        "\n",
        "# Plot boxplot for Education column\n",
        "imdf.boxplot(column='Education')\n",
        "\n",
        "# Plot boxplot for Age column\n",
        "imdf.boxplot(column='Age')\n",
        "\n",
        "# Plot boxplot for Total Cholesterol column and replace outliers with mean\n",
        "imdf.boxplot(column='Total Cholesterol')\n",
        "imdf.loc[imdf['Total Cholesterol'] > 480, 'Total Cholesterol'] = 237\n",
        "\n",
        "# Plot boxplot for Systolic BP column and replace outliers with mean\n",
        "imdf.boxplot(column='Systolic BP')\n",
        "imdf.loc[imdf['Systolic BP'] > 270, 'Systolic BP'] = 132\n",
        "\n",
        "# Plot boxplot for Diastolic BP column\n",
        "imdf.boxplot(column='Diastolic BP')\n",
        "\n",
        "# Plot boxplot for BMI column and replace outliers with mean\n",
        "imdf.boxplot(column='BMI')\n",
        "imdf.loc[imdf['BMI'] > 49, 'BMI'] = 26\n",
        "\n",
        "# Plot boxplot for Heart Rate column\n",
        "imdf.boxplot(column='Heart Rate')\n",
        "\n",
        "# Plot boxplot for Glucose column\n",
        "imdf.boxplot(column='Glucose')\n",
        "\n",
        "#imdf.drop(['Education'],axis=1)\n",
        "\n",
        "# Split data into features and target\n",
        "X = imdf.drop(['Ten Year CHD'], axis=1)\n",
        "y = imdf['Ten Year CHD']\n",
        "\n",
        "# Split data into training and testing sets\n",
        "X_train, X_test, y_train, y_test = train_test_split(X, y, test_size=0.2, random_state=0)\n",
        "\n",
        "# Standardize features\n",
        "scaler = StandardScaler()\n",
        "X = scaler.fit_transform(X)\n",
        "\n",
        "# Fit logistic regression\n",
        "classifier = LogisticRegression(random_state=0)\n",
        "classifier.fit(X_train, y_train)\n",
        "# Get train and test accuracy scores\n",
        "y_train_pred = classifier.predict(X_train)\n",
        "train_accuracy = accuracy_score(y_train_pred, y_train)\n",
        "\n",
        "y_test_pred = classifier.predict(X_test)\n",
        "test_accuracy = accuracy_score(y_test_pred, y_test)\n",
        "print(imdf.shape)\n",
        "\n",
        "\n",
        "# function for confusion matrix for test data\n",
        "def confusionmatrix(actual, predicted):\n",
        "    confusion_matrix = metrics.confusion_matrix(actual, predicted)\n",
        "\n",
        "    cm_display = metrics.ConfusionMatrixDisplay(confusion_matrix=confusion_matrix, display_labels=[False, True])\n",
        "\n",
        "    cm_display.plot()\n",
        "    plt.show()\n",
        "\n",
        "#  plot confusion matrix\n",
        "confusionmatrix(y_test_pred, y_test)\n",
        "\n",
        "# Print scores\n",
        "print(\"Train accuracy for LogisticRegression :\", train_accuracy)\n",
        "print(\"Test accuracy for LogisticRegression :\", test_accuracy)\n",
        "\n",
        "\n",
        "\n",
        "# Fit decision tree\n",
        "classifier = DecisionTreeClassifier(max_leaf_nodes=3, random_state=0)\n",
        "classifier.fit(X_train, y_train)\n",
        "\n",
        "# Get train and test accuracy scores\n",
        "y1_train_pred = classifier.predict(X_train)\n",
        "train_accuracy = accuracy_score(y_train_pred, y_train)\n",
        "\n",
        "y_test_pred = classifier.predict(X_test)\n",
        "test_accuracy = accuracy_score(y_test_pred, y_test)\n",
        "\n",
        "#  plot confusion matrix\n",
        "confusionmatrix(y_test_pred, y_test)\n",
        "\n",
        "# Print scores\n",
        "print(\"Train accuracy for decision tree :\", train_accuracy)\n",
        "print(\"Test accuracy for decision tree : \", test_accuracy)\n",
        "\n",
        "classifier = GradientBoostingClassifier(n_estimators=20, learning_rate=0.1, max_features=2, max_depth=2,\n",
        "                                    random_state=0)\n",
        "classifier.fit(X_train, y_train)\n",
        "\n",
        "# Get train and test accuracy scores\n",
        "y_train_pred = classifier.predict(X_train)\n",
        "train_accuracy = accuracy_score(y_train_pred, y_train)\n",
        "\n",
        "y_test_pred = classifier.predict(X_test)\n",
        "test_accuracy = accuracy_score(y_test_pred, y_test)\n",
        "\n",
        "#  plot confusion matrix\n",
        "confusionmatrix(y_test_pred, y_test)\n",
        "\n",
        "# Print scores\n",
        "print(\"Train accuracy for GradientBoostingClassifier:\", train_accuracy)\n",
        "print(\"Test accuracy for GradientBoostingClassifier \", test_accuracy)"
      ]
    }
  ],
  "metadata": {
    "colab": {
      "provenance": [],
      "include_colab_link": true
    },
    "kernelspec": {
      "display_name": "Python 3",
      "name": "python3"
    },
    "language_info": {
      "name": "python"
    }
  },
  "nbformat": 4,
  "nbformat_minor": 0
}